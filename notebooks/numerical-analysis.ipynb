{
 "cells": [
  {
   "cell_type": "markdown",
   "id": "15ef1dd8",
   "metadata": {},
   "source": [
    "# Newton's method to approximate sqrt(2)"
   ]
  },
  {
   "cell_type": "code",
   "execution_count": 1,
   "id": "791f9488",
   "metadata": {},
   "outputs": [],
   "source": [
    "def newtons_method(func, deriv, initial, iterations):\n",
    "    x = initial\n",
    "    for _ in range(iterations):\n",
    "        x = x - func(x)/deriv(x)\n",
    "    return x"
   ]
  },
  {
   "cell_type": "code",
   "execution_count": 2,
   "id": "cdeb3799",
   "metadata": {},
   "outputs": [
    {
     "data": {
      "text/plain": [
       "1.414213562373095"
      ]
     },
     "execution_count": 2,
     "metadata": {},
     "output_type": "execute_result"
    }
   ],
   "source": [
    "def f(x):\n",
    "    return x**2-2\n",
    "\n",
    "def dfdx(x):\n",
    "    return 2*x\n",
    "\n",
    "newtons_method(f, dfdx, 1.4, 10)"
   ]
  }
 ],
 "metadata": {
  "kernelspec": {
   "display_name": "Python 3",
   "language": "python",
   "name": "python3"
  },
  "language_info": {
   "codemirror_mode": {
    "name": "ipython",
    "version": 3
   },
   "file_extension": ".py",
   "mimetype": "text/x-python",
   "name": "python",
   "nbconvert_exporter": "python",
   "pygments_lexer": "ipython3",
   "version": "3.12.1"
  }
 },
 "nbformat": 4,
 "nbformat_minor": 5
}
